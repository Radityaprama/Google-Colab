{
  "nbformat": 4,
  "nbformat_minor": 0,
  "metadata": {
    "colab": {
      "provenance": [],
      "authorship_tag": "ABX9TyNAXz76H/Z08Poeq6yvgX+x",
      "include_colab_link": true
    },
    "kernelspec": {
      "name": "python3",
      "display_name": "Python 3"
    },
    "language_info": {
      "name": "python"
    }
  },
  "cells": [
    {
      "cell_type": "markdown",
      "metadata": {
        "id": "view-in-github",
        "colab_type": "text"
      },
      "source": [
        "<a href=\"https://colab.research.google.com/github/Radityaprama/Google-Colab/blob/main/Program%20Sederhana%20Python.ipynb\" target=\"_parent\"><img src=\"https://colab.research.google.com/assets/colab-badge.svg\" alt=\"Open In Colab\"/></a>"
      ]
    },
    {
      "cell_type": "code",
      "execution_count": 8,
      "metadata": {
        "colab": {
          "base_uri": "https://localhost:8080/"
        },
        "id": "Lxpgs13gin74",
        "outputId": "4adbfc2e-1a5f-4239-dff2-594c931dcd50"
      },
      "outputs": [
        {
          "output_type": "stream",
          "name": "stdout",
          "text": [
            "Masukkan tahun: 2012\n",
            "2012 adalah tahun kabisat: True\n"
          ]
        }
      ],
      "source": [
        "# kabisat.py\n",
        "\n",
        "def isKabisat(tahun: int) -> bool:\n",
        "    return (tahun % 4 == 0 and tahun % 100 != 0) or (tahun % 400 == 0)\n",
        "\n",
        "if __name__ == \"__main__\":\n",
        "    tahun = int(input(\"Masukkan tahun: \"))\n",
        "    print(f\"{tahun} adalah tahun kabisat: {isKabisat(tahun)}\")\n"
      ]
    },
    {
      "cell_type": "code",
      "source": [
        "# fibonacci.py\n",
        "\n",
        "def fibonacci(n: int) -> int:\n",
        "    if n <= 0:\n",
        "        return \"Input harus lebih dari 0\"\n",
        "    elif n == 1:\n",
        "        return 0\n",
        "    elif n == 2:\n",
        "        return 1\n",
        "    else:\n",
        "        a, b = 0, 1\n",
        "        for _ in range(n - 2):\n",
        "            a, b = b, a + b\n",
        "        return b\n",
        "\n",
        "def cetak_fibonacci(n: int):\n",
        "    a, b = 0, 1\n",
        "    for _ in range(n):\n",
        "        print(a, end=\" \")\n",
        "        a, b = b, a + b\n",
        "    print()\n",
        "\n",
        "if __name__ == \"__main__\":\n",
        "    n = int(input(\"Masukkan nilai n untuk Fibonacci: \"))\n",
        "    print(f\"Bilangan Fibonacci ke-{n}: {fibonacci(n)}\")\n",
        "    print(f\"Deret Fibonacci hingga suku ke-{n}:\")\n",
        "    cetak_fibonacci(n)\n"
      ],
      "metadata": {
        "colab": {
          "base_uri": "https://localhost:8080/"
        },
        "id": "NJZhHxV9mhb1",
        "outputId": "8d25484d-6424-4881-b9cf-2dced80a2f57"
      },
      "execution_count": 9,
      "outputs": [
        {
          "output_type": "stream",
          "name": "stdout",
          "text": [
            "Masukkan nilai n untuk Fibonacci: 15\n",
            "Bilangan Fibonacci ke-15: 377\n",
            "Deret Fibonacci hingga suku ke-15:\n",
            "0 1 1 2 3 5 8 13 21 34 55 89 144 233 377 \n"
          ]
        }
      ]
    }
  ]
}